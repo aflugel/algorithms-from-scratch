{
 "cells": [
  {
   "cell_type": "code",
   "execution_count": 36,
   "metadata": {},
   "outputs": [],
   "source": [
    "import numpy as np\n",
    "from pprint import pprint as pp"
   ]
  },
  {
   "cell_type": "code",
   "execution_count": 37,
   "metadata": {},
   "outputs": [],
   "source": [
    "def create_dataset(n_rows=10, n_cols=2, prob=(0.5, 0.5), seed=None):\n",
    "    '''\n",
    "    creates a 2D numpy array with 0s and 1s for columns\n",
    "    \n",
    "    INPUT:\n",
    "        n_rows = (int) number of rows in dataset\n",
    "        n_cols = (int) number of columns starting with target followed by features\n",
    "        prob = (tuple) probability of success for target, feature 1, feature 2, ..., feature n\n",
    "    OUTPUT:\n",
    "        dataset (numpy array)\n",
    "    '''\n",
    "    # error handling\n",
    "    assert type(n_rows) == int, 'n_rows must be an integer'\n",
    "    assert type(n_cols) == int, 'n_cols must be an integer'\n",
    "    assert type(prob) == tuple, 'prob must be a tuple of probabilities'\n",
    "    assert len(prob) == n_cols, 'tuple must contain probabilities for each n_col'\n",
    "    \n",
    "    # reproducibility\n",
    "    if seed:\n",
    "        np.random.seed(seed)\n",
    "        \n",
    "    # create dataset\n",
    "    for i, prb in enumerate(prob):\n",
    "        if i < 1:\n",
    "            dataset = np.random.binomial(n=1, p=prb, size=n_rows)\n",
    "        else:\n",
    "            column = np.random.binomial(n=1, p=prb, size=n_rows)\n",
    "            dataset = np.c_[dataset, column]\n",
    "    \n",
    "    return dataset"
   ]
  },
  {
   "cell_type": "code",
   "execution_count": 52,
   "metadata": {},
   "outputs": [],
   "source": [
    "class MyBayes:\n",
    "    \"\"\"Bernoulli Naive Bayes classifier for predicting a binary target from any number of\n",
    "    binary features.\n",
    "    \n",
    "    Use MyBayes.fit to train model\n",
    "    Use MyBayes.predict to predict target classes based on feature observations\"\"\"\n",
    "    \n",
    "    #helper function\n",
    "    def get_likelihoods(self, x, y):\n",
    "        \"\"\"Creates matrix of conditional likelihoods for a single feature.\n",
    "        \n",
    "        inputs:\n",
    "        x - array of values representing observations in one feature column\n",
    "        y - array of values containing the target labels corresponding to the feature column\n",
    "        \n",
    "        returns:\n",
    "        2x2 matrix of conditional probabilities (feature given target) such that:\n",
    "        row number = feature value\n",
    "        col number = target value\n",
    "        \n",
    "        eg:\n",
    "        [P(f=0 | t=0), P(f=0 | t=1)]\n",
    "        [P(f=1 | t=0), P(f=1 | t=1)]\"\"\"\n",
    "            \n",
    "            \n",
    "        self.p_f1_given_t0 = x[y==0].mean()\n",
    "        self.p_f0_given_t0 = 1 - self.p_f1_given_t0\n",
    "        \n",
    "        self.p_f1_given_t1 = x[y==1].mean()\n",
    "        self.p_f0_given_t1 = 1 - self.p_f1_given_t1\n",
    "        \n",
    "        self.feature_likelihoods = np.ndarray([2,2])\n",
    "        \n",
    "        self.feature_likelihoods[0,0] = self.p_f0_given_t0\n",
    "        self.feature_likelihoods[0,1] = self.p_f0_given_t1\n",
    "        self.feature_likelihoods[1,0] = self.p_f1_given_t0\n",
    "        self.feature_likelihoods[1,1] = self.p_f1_given_t1\n",
    "            \n",
    "        return self.feature_likelihoods\n",
    "    \n",
    "    #helper function\n",
    "    def predict_single_obs(self, X):\n",
    "        \"\"\"Predicts the target label for a single observation given feature values.\n",
    "        \n",
    "        input:\n",
    "        X - array of feature values for a single observation\n",
    "        \n",
    "        returns:\n",
    "        1 or 0 - the predicted label for this observation, given the feature values\n",
    "        \"\"\"\n",
    "        \n",
    "        self.target0_likelies = [likely_array[0, X[i]] for i, likely_array in enumerate(self.likelihoods)]\n",
    "        self.target1_likelies = [likely_array[1, X[i]] for i, likely_array in enumerate(self.likelihoods)]\n",
    "        \n",
    "        self.posterior0 = self.prior0 * np.prod(self.target0_likelies)\n",
    "        self.posterior1 = self.prior1 * np.prod(self.target1_likelies)\n",
    "        \n",
    "        if self.posterior0 > self.posterior1:\n",
    "            return 0\n",
    "        else:\n",
    "            return 1\n",
    "    \n",
    "    \n",
    "    \n",
    "    def fit(self, data):\n",
    "        \"\"\"Trains the Naive Bayes model on a matrix of feature/target data.\n",
    "        \n",
    "        inputs:\n",
    "        data - numpy matrix with target values in first column, feature values in subsequent columns\n",
    "        \n",
    "        returns:\n",
    "        self\n",
    "        \"\"\"\n",
    "        \n",
    "        #splits data into target array and feature matrix\n",
    "        self.target = data[:,0]\n",
    "        self.features = data[:,1:]\n",
    "        \n",
    "        #predicts prior probability for both 0 and 1 target labels\n",
    "        self.prior1 = self.target.mean()\n",
    "        self.prior0 = 1 - self.prior1\n",
    "        \n",
    "        self.likelihoods = []\n",
    "        \n",
    "        #gets matrix of conditional probabilities for each feature as related to the target\n",
    "        for feature in self.features.T:\n",
    "            self.feature_likelihood_matrix = self.get_likelihoods(feature, self.target)\n",
    "            self.likelihoods.append(self.feature_likelihood_matrix)\n",
    "        \n",
    "        return self\n",
    "    \n",
    "    \n",
    "    def predict(self, Xs):\n",
    "        '''Predicts the target label for one or more observations given feature values.\n",
    "        \n",
    "        input:\n",
    "        Xs - an array (single observation) or matrix (multiple observations) of feature values to base\n",
    "             prediction(s) on\n",
    "             \n",
    "        returns:\n",
    "        predictions - array of the predicted class label for each observation'''\n",
    "        \n",
    "        self.num_features = Xs.shape[0]\n",
    "        self.predictions = np.zeros(self.num_features, dtype=int)\n",
    "        \n",
    "        for index, observation in enumerate(Xs):\n",
    "            self.single_prediction = self.predict_single_obs(observation)\n",
    "            self.predictions[index] = self.single_prediction\n",
    "        \n",
    "        return self.predictions"
   ]
  },
  {
   "cell_type": "code",
   "execution_count": 60,
   "metadata": {},
   "outputs": [],
   "source": [
    "train = create_dataset(n_cols=3, prob=(0.5, 0.7, 0.2), seed=420)\n",
    "test = np.random.randint(0, high=2, size=[5,10])"
   ]
  },
  {
   "cell_type": "code",
   "execution_count": 63,
   "metadata": {},
   "outputs": [],
   "source": [
    "mb = MyBayes()"
   ]
  },
  {
   "cell_type": "code",
   "execution_count": 64,
   "metadata": {},
   "outputs": [
    {
     "data": {
      "text/plain": [
       "<__main__.MyBayes at 0x10b9594a8>"
      ]
     },
     "execution_count": 64,
     "metadata": {},
     "output_type": "execute_result"
    }
   ],
   "source": [
    "mb.fit(train)"
   ]
  },
  {
   "cell_type": "code",
   "execution_count": 65,
   "metadata": {},
   "outputs": [
    {
     "data": {
      "text/plain": [
       "array([0, 1, 0, 0, 0])"
      ]
     },
     "execution_count": 65,
     "metadata": {},
     "output_type": "execute_result"
    }
   ],
   "source": [
    "mb.predict(test)"
   ]
  },
  {
   "cell_type": "code",
   "execution_count": null,
   "metadata": {},
   "outputs": [],
   "source": []
  }
 ],
 "metadata": {
  "kernelspec": {
   "display_name": "Python 3",
   "language": "python",
   "name": "python3"
  },
  "language_info": {
   "codemirror_mode": {
    "name": "ipython",
    "version": 3
   },
   "file_extension": ".py",
   "mimetype": "text/x-python",
   "name": "python",
   "nbconvert_exporter": "python",
   "pygments_lexer": "ipython3",
   "version": "3.6.4"
  }
 },
 "nbformat": 4,
 "nbformat_minor": 2
}
